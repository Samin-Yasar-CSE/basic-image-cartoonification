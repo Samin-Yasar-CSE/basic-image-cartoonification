{
  "nbformat": 4,
  "nbformat_minor": 0,
  "metadata": {
    "colab": {
      "provenance": [],
      "authorship_tag": "ABX9TyNsKm1CBD2oKPOjp4znM3YR",
      "include_colab_link": true
    },
    "kernelspec": {
      "name": "python3",
      "display_name": "Python 3"
    },
    "language_info": {
      "name": "python"
    }
  },
  "cells": [
    {
      "cell_type": "markdown",
      "metadata": {
        "id": "view-in-github",
        "colab_type": "text"
      },
      "source": [
        "<a href=\"https://colab.research.google.com/github/Samin-Yasar-CSE/basic-image-cartoonification/blob/main/image_processor.ipynb\" target=\"_parent\"><img src=\"https://colab.research.google.com/assets/colab-badge.svg\" alt=\"Open In Colab\"/></a>"
      ]
    },
    {
      "cell_type": "code",
      "execution_count": 115,
      "metadata": {
        "id": "_oWU_r4iLHcl"
      },
      "outputs": [],
      "source": [
        "import cv2\n",
        "import numpy as np\n",
        "import matplotlib.pyplot as plt"
      ]
    },
    {
      "cell_type": "code",
      "source": [
        "# Load Image\n",
        "\n",
        "def read_file(filename):\n",
        "  img = cv2.imread(filename)\n",
        "  img = cv2.cvtColor(img, cv2.COLOR_BGR2RGB)\n",
        "  plt.imshow(img)\n",
        "  plt.show()\n",
        "  return img"
      ],
      "metadata": {
        "id": "Wkd8vuKKLcST"
      },
      "execution_count": 116,
      "outputs": []
    },
    {
      "cell_type": "code",
      "source": [
        "from google.colab import drive\n",
        "drive.mount('/content/drive')\n",
        "\n",
        "filename = \"/content/drive/MyDrive/your_image.jpg\"\n",
        "img = read_file(filename)\n",
        "img = cv2.resize(img, (600, 900))\n",
        "org_img = np.copy(img)"
      ],
      "metadata": {
        "collapsed": true,
        "id": "KxumEy5WLeiX"
      },
      "execution_count": null,
      "outputs": []
    },
    {
      "cell_type": "code",
      "source": [
        "# Create Edge Mask\n",
        "\n",
        "def edge_mask(img, line_size, blur_value):\n",
        "\n",
        "  \"\"\"\n",
        "  input: Input image\n",
        "  ouptput: Edges of Images\n",
        "\n",
        "  \"\"\"\n",
        "\n",
        "  gray = cv2.cvtColor(img, cv2.COLOR_RGB2GRAY)\n",
        "  gray_blur = cv2.medianBlur(gray, blur_value)\n",
        "  edges = cv2.adaptiveThreshold(gray_blur, 255, cv2.ADAPTIVE_THRESH_MEAN_C, cv2.THRESH_BINARY, line_size, blur_value)\n",
        "  return edges\n"
      ],
      "metadata": {
        "id": "S-hVtU7dNLbY"
      },
      "execution_count": 118,
      "outputs": []
    },
    {
      "cell_type": "code",
      "source": [
        "def clean_edges(edges):\n",
        "    kernel = np.ones((2, 2), np.uint8)\n",
        "    cleaned = cv2.morphologyEx(edges, cv2.MORPH_OPEN, kernel)\n",
        "    return cleaned"
      ],
      "metadata": {
        "id": "zdFEAIUlJvc9"
      },
      "execution_count": 119,
      "outputs": []
    },
    {
      "cell_type": "code",
      "source": [
        "line_size, blur_value = 7,7\n",
        "edges = edge_mask(img, line_size, blur_value)\n",
        "edges = clean_edges(edges)\n",
        "\n",
        "plt.imshow(edges, cmap = \"gray\")\n",
        "plt.show()\n"
      ],
      "metadata": {
        "collapsed": true,
        "id": "T1gKmf24N-rM"
      },
      "execution_count": null,
      "outputs": []
    },
    {
      "cell_type": "code",
      "source": [
        "## Reduce the color palette"
      ],
      "metadata": {
        "id": "VrWyIEVBObYX"
      },
      "execution_count": 121,
      "outputs": []
    },
    {
      "cell_type": "code",
      "source": [
        "from logging import critical\n",
        "def color_quantization(img, k):\n",
        "\n",
        "  # Transform the Image\n",
        "  data = np.float32(img).reshape((-1,3))\n",
        "\n",
        "  # Determine Criteria\n",
        "  criteria = (cv2.TERM_CRITERIA_EPS + cv2.TERM_CRITERIA_MAX_ITER, 20, 0.001)\n",
        "\n",
        "  # Implementing K-Means\n",
        "\n",
        "  ret, label, center = cv2.kmeans(data, k, None, criteria, 10, cv2.KMEANS_RANDOM_CENTERS)\n",
        "  center = np.uint8(center)\n",
        "  result = center[label.flatten()]\n",
        "  result = result.reshape(img.shape)\n",
        "  return result"
      ],
      "metadata": {
        "id": "KP8rnHXLP8Ab"
      },
      "execution_count": 122,
      "outputs": []
    },
    {
      "cell_type": "code",
      "source": [
        "im = color_quantization(img, k=24)\n",
        "plt.imshow(im)\n",
        "plt.show()"
      ],
      "metadata": {
        "collapsed": true,
        "id": "IMIQpg4eQEEs"
      },
      "execution_count": null,
      "outputs": []
    },
    {
      "cell_type": "code",
      "source": [
        "# reduce the noise\n",
        "\n",
        "blurred = cv2.bilateralFilter(im, d=3, sigmaColor=300, sigmaSpace=300)\n",
        "plt.imshow(blurred)\n",
        "plt.show()\n",
        "\n"
      ],
      "metadata": {
        "id": "bAJdomfQWJsG"
      },
      "execution_count": null,
      "outputs": []
    },
    {
      "cell_type": "code",
      "source": [
        "def cartoon():\n",
        "  c = cv2.bitwise_and(blurred, blurred, mask=edges)\n",
        "  kernel = np.array([[0, -1, 0],\n",
        "                     [-1, 5, -1],\n",
        "                     [0, -1, 0]])\n",
        "  sharpened = cv2.filter2D(c, -1, kernel)\n",
        "  plt.title(\"Sharpened Cartoon Image\")\n",
        "  plt.imshow(sharpened)\n",
        "  plt.axis('off')\n",
        "  plt.show()\n",
        "  plt.title(\"Original Image\")\n",
        "  plt.imshow(org_img)\n",
        "  plt.axis('off')\n",
        "  plt.show()"
      ],
      "metadata": {
        "id": "8KzLfE7-TN7v"
      },
      "execution_count": 125,
      "outputs": []
    },
    {
      "cell_type": "code",
      "source": [
        "cartoon()"
      ],
      "metadata": {
        "collapsed": true,
        "id": "VRopKO6kX61V"
      },
      "execution_count": null,
      "outputs": []
    },
    {
      "cell_type": "code",
      "source": [
        "\n"
      ],
      "metadata": {
        "id": "_hxdF6YNkY6X"
      },
      "execution_count": 126,
      "outputs": []
    }
  ]
}